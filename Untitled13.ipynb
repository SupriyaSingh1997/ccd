{
  "nbformat": 4,
  "nbformat_minor": 0,
  "metadata": {
    "colab": {
      "provenance": [],
      "authorship_tag": "ABX9TyPdAabr9Yiw/UeCT5z+PhAC",
      "include_colab_link": true
    },
    "kernelspec": {
      "name": "python3",
      "display_name": "Python 3"
    },
    "language_info": {
      "name": "python"
    }
  },
  "cells": [
    {
      "cell_type": "markdown",
      "metadata": {
        "id": "view-in-github",
        "colab_type": "text"
      },
      "source": [
        "<a href=\"https://colab.research.google.com/github/SupriyaSingh1997/ccd/blob/main/Untitled13.ipynb\" target=\"_parent\"><img src=\"https://colab.research.google.com/assets/colab-badge.svg\" alt=\"Open In Colab\"/></a>"
      ]
    },
    {
      "cell_type": "code",
      "execution_count": null,
      "metadata": {
        "id": "UJhxKEUEUjwG",
        "outputId": "2a8e8db3-f528-46c0-f97a-d9da9bcf0f5f",
        "colab": {
          "base_uri": "https://localhost:8080/"
        }
      },
      "outputs": [
        {
          "output_type": "stream",
          "name": "stdout",
          "text": [
            "Roots of the quartic equation:\n",
            "0\n",
            "1.00000000000000\n",
            "2.00000000000000\n",
            "3.00000000000000\n"
          ]
        }
      ],
      "source": [
        "import sympy as sp\n",
        "\n",
        "# Define the symbol\n",
        "x = sp.symbols('x')\n",
        "\n",
        "# Define the quartic equation\n",
        "equation = x**4 - 6*x**3 + 11*x**2 - 6*x\n",
        "\n",
        "# Find the roots numerically using the Newton-Raphson method\n",
        "roots = sp.solve(equation, x)\n",
        "\n",
        "# Print the roots\n",
        "print(\"Roots of the quartic equation:\")\n",
        "for root in roots:\n",
        "    print(root.evalf())"
      ]
    },
    {
      "cell_type": "code",
      "source": [
        "class pwskills1 :\n",
        "    def __init__(self,phone_number, email_id,student_id):\n",
        "          self.phone_number = phone_number\n",
        "          self.email_id = email_id\n",
        "          self.student_id = student_id\n",
        "    def return_student_details(self):\n",
        "        return self.student_id,self.phone_number,self.email_id"
      ],
      "metadata": {
        "id": "5jui19l0Ukh4"
      },
      "execution_count": null,
      "outputs": []
    },
    {
      "cell_type": "code",
      "source": [
        "rohan = pwskills1(98756424,\"rohan@gmail.com\",234)"
      ],
      "metadata": {
        "id": "QWd9X5Jo3DYg"
      },
      "execution_count": null,
      "outputs": []
    },
    {
      "cell_type": "code",
      "source": [
        "class Vehicle:\n",
        "    def __init__(self, name, max_speed, average_speed):\n",
        "        self.name = name\n",
        "        self.max_speed = max_speed\n",
        "        self.average_speed = average_speed\n",
        "\n",
        "    def display_info(self):\n",
        "        return f\"Vehicle Name: {self.name}\\nMax Speed: {self.max_speed} km/h\\nAverage Speed: {self.average_speed} km/h\"\n",
        "class Car(Vehicle):\n",
        "    def __init__(self, name, max_speed, average_speed, seating_capacity):\n",
        "        # Call the constructor of the parent class (Vehicle)\n",
        "        super().__init__(name, max_speed, average_speed)\n",
        "        self.seating_capacity = seating_capacity\n",
        "\n",
        "    def seating_capacity_info(self):\n",
        "        return f\"Vehicle Name: {self.name}\\nSeating Capacity: {self.seating_capacity} passengers\""
      ],
      "metadata": {
        "id": "Qxz0MjZn3XXC"
      },
      "execution_count": null,
      "outputs": []
    },
    {
      "cell_type": "code",
      "source": [
        "my_car = Car(\"Toyota Camry\", 180, 45, 5)\n",
        "\n",
        "# Display car information\n",
        "print(my_car.display_info())\n",
        "print(my_car.seating_capacity_info())"
      ],
      "metadata": {
        "colab": {
          "base_uri": "https://localhost:8080/"
        },
        "id": "ixKDQ_SfM1IK",
        "outputId": "ca41cd7a-2211-4870-fb7a-8b1a2ed10bfe"
      },
      "execution_count": null,
      "outputs": [
        {
          "output_type": "stream",
          "name": "stdout",
          "text": [
            "Vehicle Name: Toyota Camry\n",
            "Max Speed: 180 km/h\n",
            "Average Speed: 45 km/h\n",
            "Vehicle Name: Toyota Camry\n",
            "Seating Capacity: 5 passengers\n"
          ]
        }
      ]
    },
    {
      "cell_type": "code",
      "source": [
        "kg = int(input(\"Enter kg here\"))\n",
        "if kg < 500:\n",
        "   print(\"i am ready to buy\")\n",
        "else:\n",
        "  print(\"i will not buy , its so expensive\")"
      ],
      "metadata": {
        "id": "5LGhyfgrNO0n",
        "colab": {
          "base_uri": "https://localhost:8080/"
        },
        "outputId": "ef925b6d-043a-4acd-eba0-765d936cd4b1"
      },
      "execution_count": null,
      "outputs": [
        {
          "output_type": "stream",
          "name": "stdout",
          "text": [
            "Enter kg here200\n",
            "i am ready to buy\n"
          ]
        }
      ]
    },
    {
      "cell_type": "code",
      "source": [
        "list1=[1,2,3,4,5]\n",
        "list2=[3,4,5,6,7,8]\n",
        "# make a empty list for save diff element\n",
        "diff=[]\n",
        "# user for loop for get one by one element of given list\n",
        "for i in list1:\n",
        "#which element same in two list append this element in diff list\n",
        "if i not in list2:\n",
        "diff.append(i)\n",
        "for m in list2:\n",
        "if m not in list1:\n",
        "diff.append(m)\n",
        "\n",
        "#print output\n",
        "print('The common element in this two list is: ',diff)"
      ],
      "metadata": {
        "id": "W9Fj739BqMqm",
        "colab": {
          "base_uri": "https://localhost:8080/",
          "height": 140
        },
        "outputId": "d5fe0e53-3f1d-43ee-8cbe-e6bb0649575e"
      },
      "execution_count": null,
      "outputs": [
        {
          "output_type": "error",
          "ename": "IndentationError",
          "evalue": "ignored",
          "traceback": [
            "\u001b[0;36m  File \u001b[0;32m\"<ipython-input-1-ba45c2be01be>\"\u001b[0;36m, line \u001b[0;32m8\u001b[0m\n\u001b[0;31m    if i not in list2:\u001b[0m\n\u001b[0m    ^\u001b[0m\n\u001b[0;31mIndentationError\u001b[0m\u001b[0;31m:\u001b[0m expected an indented block after 'for' statement on line 6\n"
          ]
        }
      ]
    },
    {
      "cell_type": "code",
      "source": [
        "list1 = [1, 2, 3, 4, 5]\n",
        "list2 = [3, 4, 5, 6, 7, 8]\n",
        "\n",
        "# Make an empty list to save different elements\n",
        "diff = []\n",
        "\n",
        "# Use a for loop to get one element at a time from the first list\n",
        "for i in list1:\n",
        "    # Check if the element is not in the second list, then append it to the diff list\n",
        "    if i not in list2:\n",
        "        diff.append(i)\n",
        "\n",
        "# Use another for loop to get one element at a time from the second list\n",
        "for m in list2:\n",
        "    # Check if the element is not in the first list, then append it to the diff list\n",
        "    if m not in list1:\n",
        "        diff.append(m)\n",
        "\n",
        "# Print the output\n",
        "print('The common elements in these two lists are:', diff)"
      ],
      "metadata": {
        "colab": {
          "base_uri": "https://localhost:8080/"
        },
        "id": "wiOqv6eflI9c",
        "outputId": "db9e1bb7-ca7b-42b2-c172-8138c6a5dac2"
      },
      "execution_count": null,
      "outputs": [
        {
          "output_type": "stream",
          "name": "stdout",
          "text": [
            "The common elements in these two lists are: [1, 2, 6, 7, 8]\n"
          ]
        }
      ]
    },
    {
      "cell_type": "code",
      "source": [
        "for number in range(1,100,10):\n",
        "    print(number)"
      ],
      "metadata": {
        "colab": {
          "base_uri": "https://localhost:8080/"
        },
        "id": "wA2l3la8lWvs",
        "outputId": "ad23b8d0-23a7-4fdc-8faf-22b861fb797b"
      },
      "execution_count": null,
      "outputs": [
        {
          "output_type": "stream",
          "name": "stdout",
          "text": [
            "1\n",
            "11\n",
            "21\n",
            "31\n",
            "41\n",
            "51\n",
            "61\n",
            "71\n",
            "81\n",
            "91\n"
          ]
        }
      ]
    },
    {
      "cell_type": "code",
      "source": [
        "numbers = [1, 2, 3, 4, 5]\n",
        "total = 0\n",
        "\n",
        "for num in numbers:\n",
        "    total += num\n",
        "\n",
        "print(\"The sum of numbers in the list is\", total)"
      ],
      "metadata": {
        "colab": {
          "base_uri": "https://localhost:8080/"
        },
        "id": "yx6eNz_IorIR",
        "outputId": "40c7d4e9-f4c4-44af-c618-1d9c2ed1d19a"
      },
      "execution_count": null,
      "outputs": [
        {
          "output_type": "stream",
          "name": "stdout",
          "text": [
            "The sum of numbers in the list is 15\n"
          ]
        }
      ]
    },
    {
      "cell_type": "code",
      "source": [
        "d = {\"name\" :\"sudh\" , \"class\" : \"data science master\", \"topic\":[\"python\", \"statics\", \"machine learning\",\"DL\", \"CV\",\"NLP\",\"resume\", \"interview\"]}\n",
        "for i in d.keys():\n",
        "  print(d[i])"
      ],
      "metadata": {
        "id": "aNHknSk2ouZc",
        "colab": {
          "base_uri": "https://localhost:8080/"
        },
        "outputId": "2fe77031-300f-4531-95e3-834f4a3a0d84"
      },
      "execution_count": null,
      "outputs": [
        {
          "output_type": "stream",
          "name": "stdout",
          "text": [
            "sudh\n",
            "data science master\n",
            "['python', 'statics', 'machine learning', 'DL', 'CV', 'NLP', 'resume', 'interview']\n"
          ]
        }
      ]
    },
    {
      "cell_type": "code",
      "source": [
        "for i in d.values():\n",
        "    print(d[i])"
      ],
      "metadata": {
        "colab": {
          "base_uri": "https://localhost:8080/",
          "height": 192
        },
        "id": "c-zRnLOvWKPO",
        "outputId": "5a7477f7-e28a-4337-d6be-864ce156db48"
      },
      "execution_count": null,
      "outputs": [
        {
          "output_type": "error",
          "ename": "KeyError",
          "evalue": "ignored",
          "traceback": [
            "\u001b[0;31m---------------------------------------------------------------------------\u001b[0m",
            "\u001b[0;31mKeyError\u001b[0m                                  Traceback (most recent call last)",
            "\u001b[0;32m<ipython-input-5-9bbbab0c0ec2>\u001b[0m in \u001b[0;36m<cell line: 1>\u001b[0;34m()\u001b[0m\n\u001b[1;32m      1\u001b[0m \u001b[0;32mfor\u001b[0m \u001b[0mi\u001b[0m \u001b[0;32min\u001b[0m \u001b[0md\u001b[0m\u001b[0;34m.\u001b[0m\u001b[0mvalues\u001b[0m\u001b[0;34m(\u001b[0m\u001b[0;34m)\u001b[0m\u001b[0;34m:\u001b[0m\u001b[0;34m\u001b[0m\u001b[0;34m\u001b[0m\u001b[0m\n\u001b[0;32m----> 2\u001b[0;31m     \u001b[0mprint\u001b[0m\u001b[0;34m(\u001b[0m\u001b[0md\u001b[0m\u001b[0;34m[\u001b[0m\u001b[0mi\u001b[0m\u001b[0;34m]\u001b[0m\u001b[0;34m)\u001b[0m\u001b[0;34m\u001b[0m\u001b[0;34m\u001b[0m\u001b[0m\n\u001b[0m",
            "\u001b[0;31mKeyError\u001b[0m: 'sudh'"
          ]
        }
      ]
    },
    {
      "cell_type": "code",
      "source": [
        "for i in d.keys():\n",
        "  print(i)"
      ],
      "metadata": {
        "colab": {
          "base_uri": "https://localhost:8080/"
        },
        "id": "ks7bG1dJV9eL",
        "outputId": "d4fa2462-e769-4efb-8db3-59a034b263db"
      },
      "execution_count": null,
      "outputs": [
        {
          "output_type": "stream",
          "name": "stdout",
          "text": [
            "name\n",
            "class\n",
            "topic\n"
          ]
        }
      ]
    },
    {
      "cell_type": "markdown",
      "source": [
        "here in this code d.keys value is stored in i, print (i) will help to print the i value itself where the resultant will be name, class, topic\n"
      ],
      "metadata": {
        "id": "8jei65IYdMuS"
      }
    },
    {
      "cell_type": "markdown",
      "source": [],
      "metadata": {
        "id": "ADx2xuK9derN"
      }
    },
    {
      "cell_type": "code",
      "source": [
        "x = 8\n",
        "if x > 10:\n",
        "   print(\"A\")\n",
        "else:\n",
        "if x > 5: print(\"B\")\n",
        "   else:\n",
        "print(\"C\")"
      ],
      "metadata": {
        "id": "oUD3VCA0Y3C8",
        "colab": {
          "base_uri": "https://localhost:8080/",
          "height": 140
        },
        "outputId": "fc968d94-838d-41c7-cda3-4c5f5bd4cdfb"
      },
      "execution_count": null,
      "outputs": [
        {
          "output_type": "error",
          "ename": "SyntaxError",
          "evalue": "ignored",
          "traceback": [
            "\u001b[0;36m  File \u001b[0;32m\"<ipython-input-3-8c746ed42101>\"\u001b[0;36m, line \u001b[0;32m3\u001b[0m\n\u001b[0;31m    print(\"A\")else:\u001b[0m\n\u001b[0m              ^\u001b[0m\n\u001b[0;31mSyntaxError\u001b[0m\u001b[0;31m:\u001b[0m invalid syntax\n"
          ]
        }
      ]
    },
    {
      "cell_type": "code",
      "source": [
        "def build_model(hp):\n",
        "  model = Sequential()\n",
        "  model.add(Dense(32,activation ='relu',input_dim = 8))\n",
        "  model.add(Dense(1,activation ='sigmoid'))\n",
        "\n",
        "  optimizer= hp.Choice('optimizer', value = ['adam','sgd','rmsprop','adadelta'])\n",
        "\n",
        "  model.compile(optimizer = optimizer, loss= 'binary_crossentropy', metrix = ['accuracy'])\n",
        "\n",
        "  return model\n",
        "\n",
        "\n",
        "\n",
        "  tuner = kt.RandomSearch(build_model,\n",
        "                          objective= 'val_accuracy',\n",
        "                          max_trails = 5)\n",
        "\n",
        "  tuner.search(X_train,y_train, epochs = 5, validation_data= (x_test,y_test))\n",
        "\n",
        "  tuner.get_best_hyperparameters()[0]\n",
        "\n",
        "\n",
        "  model = tuner.get_best_models(num_models=1)[0]\n",
        "  model.summary()\n",
        "\n",
        "\n",
        "model.fit(x_train,y_train,batch_size= 32,epochs=100,initial_epoch= 6, validation_data = (x_test,y_test))\n",
        "\n",
        "#now check accuracy with this optimizer"
      ],
      "metadata": {
        "colab": {
          "base_uri": "https://localhost:8080/",
          "height": 245
        },
        "id": "gSY7Tf4rUYc9",
        "outputId": "5fcaace9-a363-4472-8cd2-b0c3b0b0709d"
      },
      "execution_count": null,
      "outputs": [
        {
          "output_type": "error",
          "ename": "NameError",
          "evalue": "ignored",
          "traceback": [
            "\u001b[0;31m---------------------------------------------------------------------------\u001b[0m",
            "\u001b[0;31mNameError\u001b[0m                                 Traceback (most recent call last)",
            "\u001b[0;32m<ipython-input-5-37c35498d361>\u001b[0m in \u001b[0;36m<cell line: 27>\u001b[0;34m()\u001b[0m\n\u001b[1;32m     25\u001b[0m \u001b[0;34m\u001b[0m\u001b[0m\n\u001b[1;32m     26\u001b[0m \u001b[0;34m\u001b[0m\u001b[0m\n\u001b[0;32m---> 27\u001b[0;31m \u001b[0mmodel\u001b[0m\u001b[0;34m.\u001b[0m\u001b[0mfit\u001b[0m\u001b[0;34m(\u001b[0m\u001b[0mx_train\u001b[0m\u001b[0;34m,\u001b[0m\u001b[0my_train\u001b[0m\u001b[0;34m,\u001b[0m\u001b[0mbatch_size\u001b[0m\u001b[0;34m=\u001b[0m \u001b[0;36m32\u001b[0m\u001b[0;34m,\u001b[0m\u001b[0mepochs\u001b[0m\u001b[0;34m=\u001b[0m\u001b[0;36m100\u001b[0m\u001b[0;34m,\u001b[0m\u001b[0minitial_epoch\u001b[0m\u001b[0;34m=\u001b[0m \u001b[0;36m6\u001b[0m\u001b[0;34m,\u001b[0m \u001b[0mvalidation_data\u001b[0m \u001b[0;34m=\u001b[0m \u001b[0;34m(\u001b[0m\u001b[0mx_test\u001b[0m\u001b[0;34m,\u001b[0m\u001b[0my_test\u001b[0m\u001b[0;34m)\u001b[0m\u001b[0;34m)\u001b[0m\u001b[0;34m\u001b[0m\u001b[0;34m\u001b[0m\u001b[0m\n\u001b[0m\u001b[1;32m     28\u001b[0m \u001b[0;34m\u001b[0m\u001b[0m\n\u001b[1;32m     29\u001b[0m \u001b[0;31m#now check accuracy with this optimizer\u001b[0m\u001b[0;34m\u001b[0m\u001b[0;34m\u001b[0m\u001b[0m\n",
            "\u001b[0;31mNameError\u001b[0m: name 'model' is not defined"
          ]
        }
      ]
    },
    {
      "cell_type": "code",
      "source": [
        "from traitlets.traitlets import NoDefaultSpecified\n",
        "No of neurons?\n",
        "\n",
        "def build_model(hp):\n",
        "  model = Sequential()\n",
        "  units = hp.Int('units', min_value= 8,max_value = 128)\n",
        "  model.add(Dense(unit = units,activation ='relu',input_dim = 8))\n",
        "  model.add(Dense(1,activation ='sigmoid'))\n",
        "  model.compile(optimizer = 'rmsprop', loss= 'binary_crossentropy', metrix = ['accuracy'])\n",
        "\n",
        "  return model\n",
        "\n",
        "\n",
        "   tuner = kt.RandomSearch(build_model,\n",
        "                          objective= 'val_accuracy',\n",
        "                          max_trails = 5,\n",
        "                          directory = 'mydir')\n",
        "\n",
        "   tuner.search(X_train,y_train, epochs = 5, validation_data= (x_test,y_test))\n",
        "   tuner.get_best_hyperparameters()[0]\n",
        "   70 Nodes\n",
        "\n",
        "\n",
        "   model = tuner.get_best_models(num_models=1)[0]\n",
        "   model.summary()\n",
        "   model.fit(x_train,y_train,batch_size= 32,epochs=100,initial_epoch= 6, validation_data = (x_test,y_test))"
      ],
      "metadata": {
        "colab": {
          "base_uri": "https://localhost:8080/"
        },
        "id": "VWRwmx97xOXb",
        "outputId": "3a7f1210-bec6-4739-d4bd-21abd31b4135"
      },
      "execution_count": null,
      "outputs": [
        {
          "output_type": "stream",
          "name": "stdout",
          "text": [
            "Object `neurons` not found.\n"
          ]
        }
      ]
    },
    {
      "cell_type": "code",
      "source": [
        "no of layers?\n",
        "\n",
        "def build_model(hp):\n",
        "  model = Sequential()\n",
        "  model.add(Dense(72,activation ='relu',input_dim = 8))\n",
        "  for i in range(hp.Int('num_layers', min_layer = 1, max_layer = 10))\n",
        "      model.add(Dense(72,activation ='relu'))\n",
        "  model.add(Dense(1,activation = 'sigmoid'))\n",
        "\n",
        "  model.compile(optimizer = 'rmsprop', loss= 'binary_crossentropy', metrix = ['accuracy'])\n",
        "\n",
        "  return model\n",
        "\n",
        "\n",
        "    tuner = kt.RandomSearch(build_model,\n",
        "                          objective= 'val_accuracy',\n",
        "                          max_trails = 5,\n",
        "                          directory = 'mydir')\n",
        "    tuner.search(X_train,y_train, epochs = 5, validation_data= (x_test,y_test))\n",
        "    tuner.get_best_hyperparameters()[0]\n",
        "\n",
        "    model = tuner.get_best_models(num_models=1)[0]\n",
        "    model.summary()\n",
        "    model.fit(x_train,y_train,batch_size= 32,epochs=100,initial_epoch= 6, validation_data = (x_test,y_test))"
      ],
      "metadata": {
        "id": "mwqWk6T4xWfe"
      },
      "execution_count": null,
      "outputs": []
    },
    {
      "cell_type": "code",
      "source": [
        "s1=bharath"
      ],
      "metadata": {
        "colab": {
          "base_uri": "https://localhost:8080/",
          "height": 192
        },
        "id": "1vKztX2pp5jO",
        "outputId": "6d40cf3e-3b40-4792-9b01-7b850c668585"
      },
      "execution_count": null,
      "outputs": [
        {
          "output_type": "error",
          "ename": "NameError",
          "evalue": "ignored",
          "traceback": [
            "\u001b[0;31m---------------------------------------------------------------------------\u001b[0m",
            "\u001b[0;31mNameError\u001b[0m                                 Traceback (most recent call last)",
            "\u001b[0;32m<ipython-input-3-1e11488024a0>\u001b[0m in \u001b[0;36m<cell line: 1>\u001b[0;34m()\u001b[0m\n\u001b[0;32m----> 1\u001b[0;31m \u001b[0ms1\u001b[0m\u001b[0;34m=\u001b[0m\u001b[0mbharath\u001b[0m\u001b[0;34m\u001b[0m\u001b[0;34m\u001b[0m\u001b[0m\n\u001b[0m\u001b[1;32m      2\u001b[0m \u001b[0ms1\u001b[0m\u001b[0;34m\u001b[0m\u001b[0;34m\u001b[0m\u001b[0m\n",
            "\u001b[0;31mNameError\u001b[0m: name 'bharath' is not defined"
          ]
        }
      ]
    },
    {
      "cell_type": "code",
      "source": [
        "a=10"
      ],
      "metadata": {
        "id": "YLIXitoVp6rC"
      },
      "execution_count": null,
      "outputs": []
    },
    {
      "cell_type": "code",
      "source": [
        "s1"
      ],
      "metadata": {
        "id": "4ZQRC1X9qOpr",
        "outputId": "cff12030-d851-4b96-81f8-7c684ca336ae",
        "colab": {
          "base_uri": "https://localhost:8080/",
          "height": 175
        }
      },
      "execution_count": null,
      "outputs": [
        {
          "output_type": "error",
          "ename": "NameError",
          "evalue": "ignored",
          "traceback": [
            "\u001b[0;31m---------------------------------------------------------------------------\u001b[0m",
            "\u001b[0;31mNameError\u001b[0m                                 Traceback (most recent call last)",
            "\u001b[0;32m<ipython-input-5-d0257f733e5e>\u001b[0m in \u001b[0;36m<cell line: 1>\u001b[0;34m()\u001b[0m\n\u001b[0;32m----> 1\u001b[0;31m \u001b[0ms1\u001b[0m\u001b[0;34m\u001b[0m\u001b[0;34m\u001b[0m\u001b[0m\n\u001b[0m",
            "\u001b[0;31mNameError\u001b[0m: name 's1' is not defined"
          ]
        }
      ]
    },
    {
      "cell_type": "code",
      "source": [
        "// temp: input array\n",
        "// n: size of array\n",
        "//Function to rearrange the array elements alternately.\n",
        "public static void rearrange(long arr[], int n)\n",
        "{ int c=0;\n",
        "long premat[]=new long[n];\n",
        "if(n==1)\n",
        "{\n",
        "premat[0]=arr[0];\n",
        "}\n",
        "else if(n%2==0)\n",
        "{\n",
        "for(int i=0; i<n/2; i++)\n",
        "{\n",
        "premat[c]=arr[n-i-1];\n",
        "c++;\n",
        "premat[c]=arr[i];\n",
        "c++;\n",
        "}\n",
        "\n",
        "}\n",
        "\n",
        "else\n",
        "{\n",
        "\n",
        "for(int k=0; k<n/2; k++)\n",
        "{\n",
        "premat[c]=arr[n-k-1];\n",
        "c++;\n",
        "premat[c]=arr[k];\n",
        "c++;\n",
        "}\n",
        "premat[n-1]=arr[n/2];\n",
        "}\n",
        "\n",
        "for(int j=0; j<n; j++)\n",
        "{\n",
        "arr[j]=premat[j];\n",
        "}\n",
        "\n",
        "}\n",
        "\n",
        "}\n"
      ],
      "metadata": {
        "id": "AeODlZWTqPhT",
        "colab": {
          "base_uri": "https://localhost:8080/",
          "height": 140
        },
        "outputId": "414066eb-6d81-4fae-cc1f-638a0cf33125"
      },
      "execution_count": null,
      "outputs": [
        {
          "output_type": "error",
          "ename": "SyntaxError",
          "evalue": "ignored",
          "traceback": [
            "\u001b[0;36m  File \u001b[0;32m\"<ipython-input-1-881bc882ae7c>\"\u001b[0;36m, line \u001b[0;32m43\u001b[0m\n\u001b[0;31m    }\u001b[0m\n\u001b[0m    ^\u001b[0m\n\u001b[0;31mSyntaxError\u001b[0m\u001b[0;31m:\u001b[0m unmatched '}'\n"
          ]
        }
      ]
    },
    {
      "cell_type": "code",
      "source": [
        "import numpy as np\n",
        "from scipy import stats\n",
        "\n",
        "# Define your cricket scores\n",
        "my_cricket_score = [22, 38, 19, 15, 48, 11, 10, 49, 47, 38, 10, 25, 46, 10, 21, 24, 29, 36, 25, 25]\n",
        "\n",
        "# Calculate the mean of the cricket scores\n",
        "mean_score = np.mean(my_cricket_score)\n",
        "print(\"Mean Score:\", mean_score)\n",
        "\n",
        "# Define the null hypothesis\n",
        "null_hypothesis = \"population mean = sample mean should be 27.4\"\n",
        "\n",
        "# Perform a one-sample t-test\n",
        "t_stat, p_value = stats.ttest_1samp(my_cricket_score, 27.4)\n",
        "\n",
        "# Print the results\n",
        "print(\"T-statistic:\", t_stat)\n",
        "print(\"P-value:\", p_value)"
      ],
      "metadata": {
        "colab": {
          "base_uri": "https://localhost:8080/"
        },
        "id": "m52kzG965m63",
        "outputId": "d48321b0-286c-4f1b-9aa7-dcd4f705ef5c"
      },
      "execution_count": null,
      "outputs": [
        {
          "output_type": "stream",
          "name": "stdout",
          "text": [
            "Mean Score: 27.4\n",
            "T-statistic: 0.0\n",
            "P-value: 1.0\n"
          ]
        }
      ]
    },
    {
      "cell_type": "code",
      "source": [
        "class ListOps:\n",
        "    def extract_from_index(self, lst, index):\n",
        "        return lst[index]\n",
        "\n",
        "    def extract_range_data(self, lst, start, end):\n",
        "        return lst[start:end]\n",
        "\n",
        "    def extract_even(self, lst):\n",
        "        even_numbers = []\n",
        "        for i in lst:\n",
        "            if i % 2 == 0:\n",
        "                even_numbers.append(i)\n",
        "        return even_numbers\n",
        "\n",
        "# Create an instance of the ListOps class\n",
        "first_obj = ListOps()\n",
        "\n",
        "# Call the extract_from_index method\n",
        "result = first_obj.extract_from_index([1, 2, 3, 5, 4, 6], 5)\n",
        "print(result)"
      ],
      "metadata": {
        "id": "wvOaK2vD9B_E",
        "colab": {
          "base_uri": "https://localhost:8080/"
        },
        "outputId": "3b9ff254-69f8-4094-e8f5-92134d8174f4"
      },
      "execution_count": null,
      "outputs": [
        {
          "output_type": "stream",
          "name": "stdout",
          "text": [
            "6\n"
          ]
        }
      ]
    },
    {
      "cell_type": "code",
      "source": [
        "class list_ops:\n",
        "\n",
        "    a = 10\n",
        "    l = [1, 2, 3, 4, 5]\n",
        "\n",
        "    def extractfromindex(self, l, index):\n",
        "        return l[index]\n",
        "\n",
        "    def extractrangedata(self, l, start, end):\n",
        "        return l[start:end]\n",
        "\n",
        "    def extracteven(self, l):\n",
        "        l1 = []\n",
        "        for i in l:\n",
        "            if i % 2 == 0:\n",
        "                l1.append(i)\n",
        "        return l1\n",
        "\n",
        "# Create an object of the class\n",
        "list_obj = list_ops()"
      ],
      "metadata": {
        "id": "ib73HR12DOwz"
      },
      "execution_count": null,
      "outputs": []
    },
    {
      "cell_type": "code",
      "source": [
        "result1 = list_obj.extractfromindex(0)\n",
        "result2 = list_obj.extractrangedata(1, 3)\n",
        "result3 = list_obj.extracteven()\n",
        "\n",
        "print(result1)\n",
        "print(result2)\n",
        "print(result3)"
      ],
      "metadata": {
        "colab": {
          "base_uri": "https://localhost:8080/",
          "height": 245
        },
        "id": "rsqqDfNZFTJN",
        "outputId": "baa22628-7b18-49e9-abaa-239b86371992"
      },
      "execution_count": null,
      "outputs": [
        {
          "output_type": "error",
          "ename": "TypeError",
          "evalue": "ignored",
          "traceback": [
            "\u001b[0;31m---------------------------------------------------------------------------\u001b[0m",
            "\u001b[0;31mTypeError\u001b[0m                                 Traceback (most recent call last)",
            "\u001b[0;32m<ipython-input-3-0579447b89bd>\u001b[0m in \u001b[0;36m<cell line: 1>\u001b[0;34m()\u001b[0m\n\u001b[0;32m----> 1\u001b[0;31m \u001b[0mresult1\u001b[0m \u001b[0;34m=\u001b[0m \u001b[0mlist_obj\u001b[0m\u001b[0;34m.\u001b[0m\u001b[0mextractfromindex\u001b[0m\u001b[0;34m(\u001b[0m\u001b[0;36m0\u001b[0m\u001b[0;34m)\u001b[0m\u001b[0;34m\u001b[0m\u001b[0;34m\u001b[0m\u001b[0m\n\u001b[0m\u001b[1;32m      2\u001b[0m \u001b[0mresult2\u001b[0m \u001b[0;34m=\u001b[0m \u001b[0mlist_obj\u001b[0m\u001b[0;34m.\u001b[0m\u001b[0mextractrangedata\u001b[0m\u001b[0;34m(\u001b[0m\u001b[0;36m1\u001b[0m\u001b[0;34m,\u001b[0m \u001b[0;36m3\u001b[0m\u001b[0;34m)\u001b[0m\u001b[0;34m\u001b[0m\u001b[0;34m\u001b[0m\u001b[0m\n\u001b[1;32m      3\u001b[0m \u001b[0mresult3\u001b[0m \u001b[0;34m=\u001b[0m \u001b[0mlist_obj\u001b[0m\u001b[0;34m.\u001b[0m\u001b[0mextracteven\u001b[0m\u001b[0;34m(\u001b[0m\u001b[0;34m)\u001b[0m\u001b[0;34m\u001b[0m\u001b[0;34m\u001b[0m\u001b[0m\n\u001b[1;32m      4\u001b[0m \u001b[0;34m\u001b[0m\u001b[0m\n\u001b[1;32m      5\u001b[0m \u001b[0mprint\u001b[0m\u001b[0;34m(\u001b[0m\u001b[0mresult1\u001b[0m\u001b[0;34m)\u001b[0m\u001b[0;34m\u001b[0m\u001b[0;34m\u001b[0m\u001b[0m\n",
            "\u001b[0;31mTypeError\u001b[0m: list_ops.extractfromindex() missing 1 required positional argument: 'index'"
          ]
        }
      ]
    },
    {
      "cell_type": "code",
      "source": [
        "class ListOps:\n",
        "    a = 10\n",
        "    l = [1, 2, 3, 4, 5]\n",
        "\n",
        "    def extractfromindex(self, index):\n",
        "        return self.l[index]\n",
        "\n",
        "    def extractrangedata(self, start, end):\n",
        "        return self.l[start:end]\n",
        "\n",
        "    def extracteven(self):\n",
        "        l1 = []\n",
        "        for i in self.l:\n",
        "            if i % 2 == 0:\n",
        "                l1.append(i)\n",
        "        return l1\n",
        "\n",
        "# Create an object of the class\n",
        "list_obj = ListOps()\n",
        "\n",
        "# Call the methods with the object\n",
        "result1 = list_obj.extractfromindex(0)\n",
        "result2 = list_obj.extractrangedata(1, 3)\n",
        "result3 = list_obj.extracteven()"
      ],
      "metadata": {
        "id": "mvKKNBdXGzge"
      },
      "execution_count": null,
      "outputs": []
    },
    {
      "cell_type": "code",
      "source": [
        "print(result1)\n",
        "print(result2)\n",
        "print(result3)"
      ],
      "metadata": {
        "id": "ellFlriVG65S",
        "outputId": "52fe4e45-028c-467e-c201-a22f2239747c",
        "colab": {
          "base_uri": "https://localhost:8080/"
        }
      },
      "execution_count": null,
      "outputs": [
        {
          "output_type": "stream",
          "name": "stdout",
          "text": [
            "1\n",
            "[2, 3]\n",
            "[2, 4]\n"
          ]
        }
      ]
    },
    {
      "cell_type": "code",
      "source": [
        "class VehicleDetails:\n",
        "    def __init__(self):\n",
        "        self.name = input(\"Enter the name of the vehicle: \")\n",
        "\n",
        "    def vehicle_no(self):\n",
        "        self.number = input(\"Enter the vehicle number: \")\n",
        "\n",
        "\n",
        "class CustomerDetails:\n",
        "    def __init__(self):\n",
        "        self.cname = input(\"Enter the name of the customer: \")\n",
        "\n",
        "    def customer_add(self):\n",
        "        self.address = input(\"Enter the address of the customer: \")\n",
        "\n",
        "    def customer_mobile_number(self):\n",
        "        self.phone = input(\"Enter the customer's mobile number: \")\n",
        "class RentDetails:\n",
        "    def __init__(self):\n",
        "        self.days = int(input(\"Enter the number of days you want to rent the vehicle: \"))\n",
        "        self.total_amount = self.days * 10\n",
        "\n",
        "\n",
        "class PrintDetails:\n",
        "    def __init__(self, customer, vehicle, rent):\n",
        "        self.customer = customer\n",
        "        self.vehicle = vehicle\n",
        "        self.rent = rent\n",
        "\n",
        "    def printing_details(self):\n",
        "        print(\"Customer Name:\", self.customer.cname)\n",
        "        print(\"Customer Address:\", self.customer.address)\n",
        "        print(\"Customer Mobile No:\", self.customer.phone)\n",
        "        print(\"Vehicle Name:\", self.vehicle.name)\n",
        "        print(\"Vehicle Number:\", self.vehicle.number)\n",
        "        print(\"Number of days for vehicle is rented:\", self.rent.days)\n",
        "        print(\"Total amount to be paid:\", self.rent.total_amount)\n",
        "class VehicleRental:\n",
        "    def __init__(self):\n",
        "        vehicle = VehicleDetails()\n",
        "        customer = CustomerDetails()\n",
        "        rent = RentDetails()\n",
        "        printer = PrintDetails(customer, vehicle, rent)\n",
        "        printer.printing_details()\n",
        "\n",
        "\n",
        "obj = VehicleRental()"
      ],
      "metadata": {
        "id": "QENu-ZUvG7pZ"
      },
      "execution_count": null,
      "outputs": []
    },
    {
      "cell_type": "code",
      "source": [
        "def rent_vehicle(username, age):\n",
        "    print(\"Enter your name and your age\")\n",
        "    # Define lists of 2-wheelers and 4-wheelers\n",
        "    two_wheeler_list = ['Honda', 'Jupyter', 'Activa', 'Pulsar']\n",
        "    four_wheeler_list = ['Swift', 'Scorpio', 'Ertiga', 'Tiago', 'Nexon']\n",
        "\n",
        "    choice = input('Enter the type of vehicle you want to rent (2 or 4): ')\n",
        "\n",
        "    if choice == '2':\n",
        "        print(\"Available 2-wheelers:\")\n",
        "        for i, vehicle in enumerate(two_wheeler_list, 1):\n",
        "            print(f\"{i}: {vehicle}\")\n",
        "\n",
        "        choice_wanted = int(input('Enter the number of the vehicle you want to rent: '))\n",
        "\n",
        "        if 1 <= choice_wanted <= len(two_wheeler_list):\n",
        "            print(f'Your {two_wheeler_list[choice_wanted - 1]} is booked for you')\n",
        "        else:\n",
        "            print('You have entered a wrong choice')\n",
        "    elif choice == '4':\n",
        "        print(\"Available 4-wheelers:\")\n",
        "        for i, vehicle in enumerate(four_wheeler_list, 1):\n",
        "            print(f\"{i}: {vehicle}\")\n",
        "\n",
        "        choice_wanted = int(input('Enter the number of the vehicle you want to rent: '))\n",
        "\n",
        "        if 1 <= choice_wanted <= len(four_wheeler_list):\n",
        "            print(f'Your {four_wheeler_list[choice_wanted - 1]} is booked for you')\n",
        "        else:\n",
        "            print('You have entered a wrong choice')\n",
        "\n",
        "    else:\n",
        "        print('Invalid vehicle type. Please choose 2 for 2-wheelers or 4 for 4-wheelers')\n",
        "\n",
        "# Example usage:\n",
        "rent_vehicle('shantanu', 24)"
      ],
      "metadata": {
        "colab": {
          "base_uri": "https://localhost:8080/"
        },
        "id": "4d11HNsC_yqG",
        "outputId": "faac4902-0124-40d8-a478-02042d67c018"
      },
      "execution_count": null,
      "outputs": [
        {
          "output_type": "stream",
          "name": "stdout",
          "text": [
            "Enter your name and your age\n",
            "Enter the type of vehicle you want to rent (2 or 4): 2\n",
            "Available 2-wheelers:\n",
            "1: Honda\n",
            "2: Jupyter\n",
            "3: Activa\n",
            "4: Pulsar\n",
            "Enter the number of the vehicle you want to rent: 2\n",
            "Your Jupyter is booked for you\n"
          ]
        }
      ]
    },
    {
      "cell_type": "code",
      "source": [
        "email = input(\"Enter valid email id: \")\n",
        "k,j,d =0,0,0\n",
        "if len(email)>=6:\n",
        "if email[0].isalpha():\n",
        "if (\"@\" in email) and (email.count(\"@\") ==1):\n",
        "if(email[-4] ==\".\") ^ (email[-3] ==\".\"):\n",
        "for i in email:\n",
        "if i ==i.isspace():\n",
        "k=1\n",
        "elif i==i.isalpha():\n",
        "if i==i.upper():\n",
        "j=1\n",
        "elif i.isdigit():\n",
        "continue\n",
        "elif i==\"_\" or i==\".\" or i==\"@\":\n",
        "continue\n",
        "else:\n",
        "d=1\n",
        "\n",
        "if k==1 or j==1 or d==1:\n",
        "print(\"wrong email 5\")\n",
        "else:\n",
        "print(\"Right email\")\n",
        "else:\n",
        "print(\"wrong email 3\")"
      ],
      "metadata": {
        "id": "QyeotB6LQszu"
      },
      "execution_count": null,
      "outputs": []
    },
    {
      "cell_type": "code",
      "source": [
        "email = input(\"Enter valid email id: \")\n",
        "k, j, d = 0, 0, 0\n",
        "\n",
        "if len(email) >= 6:\n",
        "    if email[0].isalpha():\n",
        "        if \"@\" in email and email.count(\"@\") == 1:\n",
        "            if email.endswith(\".com\") or email.endswith(\".org\"):\n",
        "                for i in email:\n",
        "                    if i.isspace():\n",
        "                        k = 1\n",
        "                    elif i.isalpha():\n",
        "                        if i.isupper():\n",
        "                            j = 1\n",
        "                    elif i.isdigit():\n",
        "                        continue\n",
        "                    elif i in \"_.\":\n",
        "                        continue\n",
        "                    else:\n",
        "                        d = 1\n",
        "            if k == 1 or j == 1 or d == 1:\n",
        "                print(\"Wrong email format\")\n",
        "            else:\n",
        "                print(\"Right email\")\n",
        "        else:\n",
        "            print(\"Wrong email format: Missing '@' or too many '@'\")\n",
        "    else:\n",
        "        print(\"Wrong email format: Email must start with a letter\")\n",
        "else:\n",
        "    print(\"Wrong email format: Email must be at least 6 characters long\")"
      ],
      "metadata": {
        "colab": {
          "base_uri": "https://localhost:8080/"
        },
        "id": "S8qo8vydqsve",
        "outputId": "507292ff-7c9d-462a-a5a3-57e5167f67d8"
      },
      "execution_count": null,
      "outputs": [
        {
          "output_type": "stream",
          "name": "stdout",
          "text": [
            "Enter valid email id: supriya.singh8652@gmail.com\n",
            "Wrong email format\n"
          ]
        }
      ]
    },
    {
      "cell_type": "code",
      "source": [
        "email = input(\"Enter valid email id: \")\n",
        "k, j, d = 0, 0, 0\n",
        "\n",
        "if len(email) >= 6:\n",
        "    if email[0].isalpha():\n",
        "        if \"@\" in email and email.count(\"@\") == 1:\n",
        "            # Split the email into local part and domain\n",
        "            local_part, domain = email.split('@')\n",
        "            if domain.endswith(\".com\") or domain.endswith(\".org\"):\n",
        "                for i in local_part:\n",
        "                    if i.isspace():\n",
        "                        k = 1\n",
        "                    elif i.isalpha():\n",
        "                        if i.isupper():\n",
        "                            j = 1\n",
        "                    elif i.isdigit():\n",
        "                        continue\n",
        "                    elif i in \"_.\":\n",
        "                        continue\n",
        "                    else:\n",
        "                        d = 1\n",
        "\n",
        "                if k == 1 or j == 1 or d == 1:\n",
        "                    print(\"Wrong email format\")\n",
        "                else:\n",
        "                    print(\"Right email\")\n",
        "            else:\n",
        "                print(\"Wrong email format: Invalid domain\")\n",
        "        else:\n",
        "            print(\"Wrong email format: Missing '@' or too many '@'\")\n",
        "    else:\n",
        "        print(\"Wrong email format: Email must start with a letter\")\n",
        "else:\n",
        "    print(\"Wrong email format: Email must be at least 6 characters long\")"
      ],
      "metadata": {
        "colab": {
          "base_uri": "https://localhost:8080/"
        },
        "id": "-JIakQ8Hq4dP",
        "outputId": "71211b34-7fb6-4d55-ddfc-f53be14cb6b3"
      },
      "execution_count": null,
      "outputs": [
        {
          "output_type": "stream",
          "name": "stdout",
          "text": [
            "Enter valid email id: supriya.singh@gmail.com\n",
            "Right email\n"
          ]
        }
      ]
    },
    {
      "cell_type": "code",
      "source": [
        "import math\n",
        "\n",
        "def solve_cubic(a, b, c, d):\n",
        "    # Calculate intermediate variables\n",
        "    p = c / a - (b ** 2) / (3 * a ** 2)\n",
        "    q = (2 * b ** 3) / (27 * a ** 3) - (b * c) / (3 * a ** 2) + d / a\n",
        "\n",
        "    # Calculate discriminant of Cardano's depressed cubic equation\n",
        "    discriminant = (q ** 2) / 4 + (p ** 3) / 27\n",
        "\n",
        "    if discriminant > 0:\n",
        "        # Three real roots\n",
        "        u = (-q / 2 + math.sqrt(discriminant)) ** (1 / 3)\n",
        "        v = (-q / 2 - math.sqrt(discriminant)) ** (1 / 3)\n",
        "        real_root = -(b / (3 * a))\n",
        "        root1 = real_root + u + v\n",
        "        root2 = real_root - (u + v) / 2\n",
        "        root3 = real_root - (u + v) / 2\n",
        "    elif discriminant == 0:\n",
        "        # Three real roots with one repeated\n",
        "        u = (-q / 2) ** (1 / 3)\n",
        "        v = (-q / 2) ** (1 / 3)\n",
        "        real_root = -(b / (3 * a))\n",
        "        root1 = real_root + u + v\n",
        "        root2 = real_root - (u + v) / 2\n",
        "        root3 = real_root - (u + v) / 2\n",
        "    else:\n",
        "        # One real root and two complex roots\n",
        "        r = math.sqrt((-(p ** 3) / 27))\n",
        "        theta = math.acos(-q / (2 * r))\n",
        "        root1 = -2 * math.copysign(1, q) * math.sqrt(-p / 3) * math.cos(theta / 3) - (b / (3 * a))\n",
        "        root2 = -2 * math.copysign(1, q) * math.sqrt(-p / 3) * math.cos((theta + 2 * math.pi) / 3) - (b / (3 * a))\n",
        "        root3 = -2 * math.copysign(1, q) * math.sqrt(-p / 3) * math.cos((theta + 4 * math.pi) / 3) - (b / (3 * a))\n",
        "\n",
        "    return root1, root2, root3\n",
        "\n",
        "# Example usage:\n",
        "a = 1\n",
        "b = 0\n",
        "c = -6\n",
        "d = 8\n",
        "\n",
        "roots = solve_cubic(a, b, c, d)\n",
        "print(\"Roots:\", roots)\n"
      ],
      "metadata": {
        "colab": {
          "base_uri": "https://localhost:8080/"
        },
        "id": "yojgsVqar7z2",
        "outputId": "98ee00b8-f710-4fa4-9d0a-cd7f5e025b3f"
      },
      "execution_count": null,
      "outputs": [
        {
          "output_type": "stream",
          "name": "stdout",
          "text": [
            "Roots: ((1.475686517795721+2.555964024866582j), (-0.7378432588978605-1.277982012433291j), (-0.7378432588978605-1.277982012433291j))\n"
          ]
        }
      ]
    },
    {
      "cell_type": "code",
      "source": [
        "def test8(g):\n",
        "    result = []\n",
        "\n",
        "    for i in g:\n",
        "        if isinstance(i, list):\n",
        "            for f in i:\n",
        "                result.append(f)\n",
        "        elif isinstance(i, (int, float)):\n",
        "            result.append(i)\n",
        "\n",
        "    return result"
      ],
      "metadata": {
        "id": "BBMuXgyeD6kv"
      },
      "execution_count": null,
      "outputs": []
    },
    {
      "cell_type": "markdown",
      "source": [],
      "metadata": {
        "id": "0Llb1Jy6VZp9"
      }
    },
    {
      "cell_type": "code",
      "source": [
        "g = [1, [2, 3, 4], 5.0, [6, 7], \"string\", 8]\n",
        "\n",
        "result = test8(g)\n",
        "\n",
        "print(result)"
      ],
      "metadata": {
        "colab": {
          "base_uri": "https://localhost:8080/"
        },
        "id": "20EAHLgaVY03",
        "outputId": "47c2a50c-af69-4fc6-9308-257dbfc80eeb"
      },
      "execution_count": null,
      "outputs": [
        {
          "output_type": "stream",
          "name": "stdout",
          "text": [
            "[1, 2, 3, 4, 5.0, 6, 7, 8]\n"
          ]
        }
      ]
    },
    {
      "cell_type": "code",
      "source": [
        "import os\n",
        "import sys\n",
        "from src.exception import CustomException\n",
        "import logging\n",
        "import pandas as pd\n",
        "from sklearn.model_selection import train_test_split\n",
        "from dataclasses import dataclass\n",
        "from src.components.data_transformation import DataTransformation\n",
        "from src.components.data_transformation import DataTransformationConfig\n",
        "from src.components.model_trainer import ModelTrainerConfig\n",
        "from src.components.model_trainer import ModelTrainer\n",
        "\n",
        "@dataclass\n",
        "class DataIngestionConfig:\n",
        "    train_data_path: str = os.path.join('artifacts', 'train.csv')\n",
        "    test_data_path: str = os.path.join('artifacts', 'test.csv')\n",
        "    raw_data_path: str = os.path.join('artifacts', 'data.csv')\n",
        "\n",
        "class DataIngestion:\n",
        "    def __init__(self):\n",
        "        self.ingestion_config = DataIngestionConfig()\n",
        "\n",
        "    def initiate_data_ingestion(self):\n",
        "        logging.info(\"Entered the data ingestion method or component\")\n",
        "        try:\n",
        "            df = pd.read_csv('notebook/data/stud.csv')\n",
        "            logging.info(\"Read the dataset as a dataframe\")\n",
        "            os.makedirs(os.path.dirname(self.ingestion_config.train_data_path), exist_ok=True)\n",
        "            df.to_csv(self.ingestion_config.raw_data_path, index=False, header=True)\n",
        "            logging.info(\"Train-test split initiated\")\n",
        "            train_set, test_set = train_test_split(df, test_size=0.2, random_state=42)\n",
        "            train_set.to_csv(self.ingestion_config.train_data_path, index=False, header=True)\n",
        "            test_set.to_csv(self.ingestion_config.test_data_path, index=False, header=True)\n",
        "            logging.info(\"Ingestion of the data is completed\")\n",
        "            return self.ingestion_config.train_data_path, self.ingestion_config.test_data_path\n",
        "        except Exception as e:\n",
        "            raise CustomException(e, sys)\n",
        "\n",
        "if __name__ == \"__main__\":\n",
        "    obj = DataIngestion()\n",
        "    train_data, test_data = obj.initiate_data_ingestion()\n",
        "    data_transformation = DataTransformation()\n",
        "    train_arr, test_arr = data_transformation.initiate_data_transformation(train_data, test_data)\n",
        "    modelTrainer = ModelTrainer()\n",
        "    print(modelTrainer.initiate_model_trainer(train_arr, test_arr))\n"
      ],
      "metadata": {
        "id": "RVTxzOgUqOdT",
        "colab": {
          "base_uri": "https://localhost:8080/",
          "height": 383
        },
        "outputId": "1fbe9ff7-9ddb-4a8f-95d9-3d42a97a46d1"
      },
      "execution_count": null,
      "outputs": [
        {
          "output_type": "error",
          "ename": "ModuleNotFoundError",
          "evalue": "ignored",
          "traceback": [
            "\u001b[0;31m---------------------------------------------------------------------------\u001b[0m",
            "\u001b[0;31mModuleNotFoundError\u001b[0m                       Traceback (most recent call last)",
            "\u001b[0;32m<ipython-input-1-e8f2d4053421>\u001b[0m in \u001b[0;36m<cell line: 3>\u001b[0;34m()\u001b[0m\n\u001b[1;32m      1\u001b[0m \u001b[0;32mimport\u001b[0m \u001b[0mos\u001b[0m\u001b[0;34m\u001b[0m\u001b[0;34m\u001b[0m\u001b[0m\n\u001b[1;32m      2\u001b[0m \u001b[0;32mimport\u001b[0m \u001b[0msys\u001b[0m\u001b[0;34m\u001b[0m\u001b[0;34m\u001b[0m\u001b[0m\n\u001b[0;32m----> 3\u001b[0;31m \u001b[0;32mfrom\u001b[0m \u001b[0msrc\u001b[0m\u001b[0;34m.\u001b[0m\u001b[0mexception\u001b[0m \u001b[0;32mimport\u001b[0m \u001b[0mCustomException\u001b[0m\u001b[0;34m\u001b[0m\u001b[0;34m\u001b[0m\u001b[0m\n\u001b[0m\u001b[1;32m      4\u001b[0m \u001b[0;32mimport\u001b[0m \u001b[0mlogging\u001b[0m\u001b[0;34m\u001b[0m\u001b[0;34m\u001b[0m\u001b[0m\n\u001b[1;32m      5\u001b[0m \u001b[0;32mimport\u001b[0m \u001b[0mpandas\u001b[0m \u001b[0;32mas\u001b[0m \u001b[0mpd\u001b[0m\u001b[0;34m\u001b[0m\u001b[0;34m\u001b[0m\u001b[0m\n",
            "\u001b[0;31mModuleNotFoundError\u001b[0m: No module named 'src'",
            "",
            "\u001b[0;31m---------------------------------------------------------------------------\u001b[0;32m\nNOTE: If your import is failing due to a missing package, you can\nmanually install dependencies using either !pip or !apt.\n\nTo view examples of installing some common dependencies, click the\n\"Open Examples\" button below.\n\u001b[0;31m---------------------------------------------------------------------------\u001b[0m\n"
          ],
          "errorDetails": {
            "actions": [
              {
                "action": "open_url",
                "actionText": "Open Examples",
                "url": "/notebooks/snippets/importing_libraries.ipynb"
              }
            ]
          }
        }
      ]
    },
    {
      "cell_type": "code",
      "source": [
        "from functools import reduce\n",
        "\n",
        "n = input(\"Enter a number: - \")\n",
        "\n",
        "def sum_no(a):\n",
        "    total = 0\n",
        "    for digit in a:\n",
        "        total += int(digit)\n",
        "    return total\n",
        "\n",
        "ans = reduce(sum_no, str(n))\n",
        "print(\"The sum of the digits is:\", ans)"
      ],
      "metadata": {
        "colab": {
          "base_uri": "https://localhost:8080/",
          "height": 245
        },
        "id": "tebJUtd27NHd",
        "outputId": "872cc6b5-9524-4843-9edb-f2d385ab5ded"
      },
      "execution_count": null,
      "outputs": [
        {
          "name": "stdout",
          "output_type": "stream",
          "text": [
            "Enter a number: - 47\n"
          ]
        },
        {
          "output_type": "error",
          "ename": "TypeError",
          "evalue": "ignored",
          "traceback": [
            "\u001b[0;31m---------------------------------------------------------------------------\u001b[0m",
            "\u001b[0;31mTypeError\u001b[0m                                 Traceback (most recent call last)",
            "\u001b[0;32m<ipython-input-1-6d07b102b408>\u001b[0m in \u001b[0;36m<cell line: 11>\u001b[0;34m()\u001b[0m\n\u001b[1;32m      9\u001b[0m     \u001b[0;32mreturn\u001b[0m \u001b[0mtotal\u001b[0m\u001b[0;34m\u001b[0m\u001b[0;34m\u001b[0m\u001b[0m\n\u001b[1;32m     10\u001b[0m \u001b[0;34m\u001b[0m\u001b[0m\n\u001b[0;32m---> 11\u001b[0;31m \u001b[0mans\u001b[0m \u001b[0;34m=\u001b[0m \u001b[0mreduce\u001b[0m\u001b[0;34m(\u001b[0m\u001b[0msum_no\u001b[0m\u001b[0;34m,\u001b[0m \u001b[0mstr\u001b[0m\u001b[0;34m(\u001b[0m\u001b[0mn\u001b[0m\u001b[0;34m)\u001b[0m\u001b[0;34m)\u001b[0m\u001b[0;34m\u001b[0m\u001b[0;34m\u001b[0m\u001b[0m\n\u001b[0m\u001b[1;32m     12\u001b[0m \u001b[0mprint\u001b[0m\u001b[0;34m(\u001b[0m\u001b[0;34m\"The sum of the digits is:\"\u001b[0m\u001b[0;34m,\u001b[0m \u001b[0mans\u001b[0m\u001b[0;34m)\u001b[0m\u001b[0;34m\u001b[0m\u001b[0;34m\u001b[0m\u001b[0m\n",
            "\u001b[0;31mTypeError\u001b[0m: sum_no() takes 1 positional argument but 2 were given"
          ]
        }
      ]
    },
    {
      "cell_type": "code",
      "source": [
        "from functools import reduce\n",
        "\n",
        "n = input(\"Enter a number: - \")\n",
        "\n",
        "def sum_no(total, digit):\n",
        "    return total + int(digit)\n",
        "\n",
        "ans = reduce(sum_no, str(n), 0)\n",
        "print(\"The sum of the digits is:\", ans)"
      ],
      "metadata": {
        "colab": {
          "base_uri": "https://localhost:8080/"
        },
        "id": "YZPYesjEyh5q",
        "outputId": "f4589b79-921f-46f4-c26c-79e291164068"
      },
      "execution_count": null,
      "outputs": [
        {
          "output_type": "stream",
          "name": "stdout",
          "text": [
            "Enter a number: - 47\n",
            "The sum of the digits is: 11\n"
          ]
        }
      ]
    },
    {
      "cell_type": "code",
      "source": [
        "from itertools import permutations\n",
        "\n",
        "def find_permutations(input_str):\n",
        "    # Use itertools.permutations to generate all permutations\n",
        "    permuted = permutations(input_str)\n",
        "    return [''.join(p) for p in permuted]\n",
        "\n",
        "# Example usage:\n",
        "input_string = \"abc\"\n",
        "result = find_permutations(input_string)\n",
        "for perm in result:\n",
        "    print(perm)"
      ],
      "metadata": {
        "id": "oIiMaC8Tyu3P",
        "colab": {
          "base_uri": "https://localhost:8080/"
        },
        "outputId": "32bc598e-f267-44e8-fe23-2960de88895f"
      },
      "execution_count": null,
      "outputs": [
        {
          "output_type": "stream",
          "name": "stdout",
          "text": [
            "abc\n",
            "acb\n",
            "bac\n",
            "bca\n",
            "cab\n",
            "cba\n"
          ]
        }
      ]
    },
    {
      "cell_type": "code",
      "source": [
        "def find_permutations(input_str):\n",
        "    # Base case: If the string has only one character or is empty, return it as a single-element list\n",
        "    if len(input_str) <= 1:\n",
        "        return [input_str]\n",
        "\n",
        "    # List to store the permutations\n",
        "    permutations = []\n",
        "\n",
        "    for char in input_str:\n",
        "        # Generate all permutations of the string excluding the current character\n",
        "        remaining_chars = input_str.replace(char, \"\")\n",
        "        sub_permutations = find_permutations(remaining_chars)\n",
        "\n",
        "        # Add the current character to the beginning of each permutation\n",
        "        for sub_permutation in sub_permutations:\n",
        "            permutations.append(char + sub_permutation)\n",
        "\n",
        "    return permutations\n",
        "\n",
        "# Example usage:\n",
        "input_string = \"abc\"\n",
        "result = find_permutations(input_string)\n",
        "for perm in result:\n",
        "    print(perm)\n"
      ],
      "metadata": {
        "colab": {
          "base_uri": "https://localhost:8080/"
        },
        "id": "Vophb0rvc6au",
        "outputId": "67a98c69-43f0-41bc-8bd4-10dac78dadee"
      },
      "execution_count": null,
      "outputs": [
        {
          "output_type": "stream",
          "name": "stdout",
          "text": [
            "abc\n",
            "acb\n",
            "bac\n",
            "bca\n",
            "cab\n",
            "cba\n"
          ]
        }
      ]
    },
    {
      "cell_type": "code",
      "source": [
        "a = 5\n",
        "b = 55\n",
        "c = a / b\n",
        "print(c)\n"
      ],
      "metadata": {
        "id": "4OGdCBHAdFk5",
        "colab": {
          "base_uri": "https://localhost:8080/"
        },
        "outputId": "ff830d80-d865-4f41-f795-427fedf7ab20"
      },
      "execution_count": null,
      "outputs": [
        {
          "output_type": "stream",
          "name": "stdout",
          "text": [
            "0.09090909090909091\n"
          ]
        }
      ]
    },
    {
      "cell_type": "code",
      "source": [
        "def is_leap_year(year):\n",
        "    if (year % 400 == 0) or ((year % 4 == 0) and (year % 100 != 0)):\n",
        "        return True\n",
        "    else:\n",
        "        return False\n",
        "\n",
        "def days_in_month(month, year):\n",
        "    if month in [1, 3, 5, 7, 8, 10, 12]:\n",
        "        return 31\n",
        "    elif month in [4, 6, 9, 11]:\n",
        "        return 30\n",
        "    elif month == 2:\n",
        "        if is_leap_year(year):\n",
        "            return 29\n",
        "        else:\n",
        "            return 28\n",
        "    else:\n",
        "        return None\n",
        "\n",
        "year = int(input(\"Enter the year: \"))\n",
        "month = int(input(\"Enter the month: \"))\n",
        "\n",
        "if is_leap_year(year):\n",
        "    print(f\"{year} is a leap year\")\n",
        "else:\n",
        "    print(f\"{year} is not a leap year\")\n",
        "\n",
        "days = days_in_month(month, year)\n",
        "if days is not None:\n",
        "    print(f\"This month has {days} days\")\n",
        "else:\n",
        "    print(\"Invalid month\")\n"
      ],
      "metadata": {
        "colab": {
          "base_uri": "https://localhost:8080/"
        },
        "id": "WvN4KojXRvuJ",
        "outputId": "0d48d648-a3de-434a-cc5b-7c9820a49a3c"
      },
      "execution_count": null,
      "outputs": [
        {
          "output_type": "stream",
          "name": "stdout",
          "text": [
            "Enter the year: 2023\n",
            "Enter the month: 5\n",
            "2023 is not a leap year\n",
            "This month has 31 days\n"
          ]
        }
      ]
    },
    {
      "cell_type": "code",
      "source": [
        "\n",
        "\n",
        "# Copy the code here\n",
        "\n",
        "# Create Ingredients\n",
        "tomato = Ingredient(\"Tomato\")\n",
        "cheese = Ingredient(\"Cheese\")\n",
        "dough = Ingredient(\"Dough\")\n",
        "\n",
        "# Create Dish\n",
        "pizza_ingredients = [tomato, cheese, dough]\n",
        "pizza = Dish(\"Pizza\", pizza_ingredients)\n",
        "\n",
        "# Create Menu\n",
        "menu = Menu()\n",
        "menu.add_item(pizza)\n",
        "\n",
        "# Create Restaurant\n",
        "restaurant = Restaurant()\n",
        "restaurant.add_dish(pizza)\n",
        "restaurant.add_ingredient(tomato)\n",
        "\n",
        "# Print some information\n",
        "print(\"Restaurant Menu:\")\n",
        "for item in restaurant.menu.items:\n",
        "    print(f\"- {item.name}\")\n",
        "\n",
        "print(\"\\nDishes in the restaurant:\")\n",
        "for dish in restaurant.dishes:\n",
        "    print(f\"- {dish.name}\")\n",
        "\n",
        "print(\"\\nIngredients in the restaurant:\")\n",
        "for ingredient in restaurant.ingredients:\n",
        "    print(f\"- {ingredient.name}\")\n"
      ],
      "metadata": {
        "id": "sTcRo_Gh3Ojk",
        "colab": {
          "base_uri": "https://localhost:8080/"
        },
        "outputId": "7ad1301d-c742-43fd-9c90-4b19a0937fed"
      },
      "execution_count": null,
      "outputs": [
        {
          "output_type": "stream",
          "name": "stdout",
          "text": [
            "Restaurant Menu:\n",
            "\n",
            "Dishes in the restaurant:\n",
            "- Pizza\n",
            "\n",
            "Ingredients in the restaurant:\n",
            "- Tomato\n"
          ]
        }
      ]
    },
    {
      "cell_type": "code",
      "source": [
        "# Copy the code here\n",
        "\n",
        "# Create Ingredients\n",
        "tomato = Ingredient(\"Tomato\")\n",
        "cheese = Ingredient(\"Cheese\")\n",
        "dough = Ingredient(\"Dough\")\n",
        "\n",
        "# Create Dish\n",
        "pizza_ingredients = [tomato, cheese, dough]\n",
        "pizza = Dish(\"Pizza\", pizza_ingredients)\n",
        "\n",
        "# Create Menu\n",
        "menu = Menu()\n",
        "menu.add_item(pizza)\n",
        "\n",
        "# Create Restaurant\n",
        "restaurant = Restaurant()\n",
        "restaurant.add_dish(pizza)\n",
        "restaurant.add_ingredient(tomato)\n",
        "\n",
        "# Print some information\n",
        "print(\"Restaurant Menu:\")\n",
        "for item in restaurant.menu.items:\n",
        "    print(f\"- {item.name}\")\n",
        "\n",
        "print(\"\\nDishes in the restaurant:\")\n",
        "for dish in restaurant.dishes:\n",
        "    print(f\"- {dish.name}\")\n",
        "\n",
        "print(\"\\nIngredients in the restaurant:\")\n",
        "for ingredient in restaurant.ingredients:\n",
        "    print(f\"- {ingredient.name}\")\n"
      ],
      "metadata": {
        "colab": {
          "base_uri": "https://localhost:8080/"
        },
        "id": "3abOVXfctEsw",
        "outputId": "b776fa75-b55e-4b00-f3c1-e48eee3ad099"
      },
      "execution_count": null,
      "outputs": [
        {
          "output_type": "stream",
          "name": "stdout",
          "text": [
            "Restaurant Menu:\n",
            "\n",
            "Dishes in the restaurant:\n",
            "- Pizza\n",
            "\n",
            "Ingredients in the restaurant:\n",
            "- Tomato\n"
          ]
        }
      ]
    },
    {
      "cell_type": "code",
      "source": [],
      "metadata": {
        "id": "5oBwyVnptZ21"
      },
      "execution_count": null,
      "outputs": []
    },
    {
      "cell_type": "code",
      "source": [
        "# Copy the corrected code here\n",
        "\n",
        "# Create an instance of Restaurant\n",
        "my_restaurant = Restaurant()\n",
        "\n",
        "# Add menu items, dishes, and ingredients\n",
        "my_restaurant.add_menu_item(\"Burger\")\n",
        "my_restaurant.add_dish(\"Cheese Pizza\")\n",
        "my_restaurant.add_ingredient(\"Tomato\")\n",
        "\n",
        "# Print the restaurant's menu, dishes, and ingredients\n",
        "print(\"Restaurant Menu:\", my_restaurant.menu)\n",
        "print(\"Dishes in the restaurant:\", my_restaurant.dishes)\n",
        "print(\"Ingredients in the restaurant:\", my_restaurant.ingredients)\n"
      ],
      "metadata": {
        "colab": {
          "base_uri": "https://localhost:8080/"
        },
        "id": "q2ZeoDgHt-SF",
        "outputId": "c5dfb704-7493-4bf3-85f4-9ee92342aa5e"
      },
      "execution_count": null,
      "outputs": [
        {
          "output_type": "stream",
          "name": "stdout",
          "text": [
            "Restaurant Menu: ['Burger']\n",
            "Dishes in the restaurant: ['Cheese Pizza']\n",
            "Ingredients in the restaurant: ['Tomato']\n"
          ]
        }
      ]
    },
    {
      "cell_type": "code",
      "source": [
        "class Ingredient:\n",
        "    def __init__(self, name):\n",
        "        self.name = name\n",
        "\n",
        "class Dish:\n",
        "    def __init__(self, name, ingredients):\n",
        "        self.name = name\n",
        "        self.ingredients = ingredients\n",
        "\n",
        "class Menu:\n",
        "    def __init__(self):\n",
        "        self.items = []\n",
        "\n",
        "    def add_item(self, item):\n",
        "        self.items.append(item)\n",
        "\n",
        "class Restaurant:\n",
        "    def __init__(self, name):\n",
        "        self.name = name\n",
        "        self.menu = Menu()\n",
        "\n",
        "    def add_dish_to_menu(self, dish):\n",
        "        self.menu.add_item(dish)\n"
      ],
      "metadata": {
        "id": "HgUh6HN0uC5N"
      },
      "execution_count": null,
      "outputs": []
    },
    {
      "cell_type": "code",
      "source": [
        "# Create Ingredients\n",
        "tomato = Ingredient(\"Tomato\")\n",
        "cheese = Ingredient(\"Cheese\")\n",
        "dough = Ingredient(\"Dough\")\n",
        "\n",
        "# Create Dishes\n",
        "pizza = Dish(\"Pizza\", [tomato, cheese, dough])\n",
        "burger = Dish(\"Burger\", [cheese, dough])\n",
        "\n",
        "# Create Menu\n",
        "menu = Menu()\n",
        "menu.add_item(pizza)\n",
        "menu.add_item(burger)\n",
        "\n",
        "# Create Restaurant\n",
        "my_restaurant = Restaurant(\"My Restaurant\")\n",
        "my_restaurant.add_dish_to_menu(pizza)\n",
        "my_restaurant.add_dish_to_menu(burger)\n"
      ],
      "metadata": {
        "id": "eFAbZptkuQdL"
      },
      "execution_count": null,
      "outputs": []
    },
    {
      "cell_type": "code",
      "source": [
        "def add(a, b):\n",
        "    return a + b\n",
        "\n",
        "print(add(1, 2))\n"
      ],
      "metadata": {
        "id": "_zoB8r-BuX5j",
        "outputId": "d83a8636-ff91-401b-894a-bccb04316bd6",
        "colab": {
          "base_uri": "https://localhost:8080/"
        }
      },
      "execution_count": null,
      "outputs": [
        {
          "output_type": "stream",
          "name": "stdout",
          "text": [
            "3\n"
          ]
        }
      ]
    },
    {
      "cell_type": "code",
      "source": [
        " a=10\n",
        " a=a+5\n",
        " print(a)"
      ],
      "metadata": {
        "id": "_O0rzTgZuojE",
        "outputId": "6e43160e-dc55-4d51-fff3-27fd1771a88f",
        "colab": {
          "base_uri": "https://localhost:8080/"
        }
      },
      "execution_count": null,
      "outputs": [
        {
          "output_type": "stream",
          "name": "stdout",
          "text": [
            "15\n"
          ]
        }
      ]
    },
    {
      "cell_type": "code",
      "source": [
        "def has_duplicates(arr):\n",
        "    for i in range(len(arr)):\n",
        "        for j in range(i + 1, len(arr)):\n",
        "            if arr[i] == arr[j]:\n",
        "                return True  # Return True if a duplicate is found\n",
        "    return False  # Return False if no duplicates are found\n",
        "\n",
        "# Example usage:\n",
        "arr1 = [1, 2, 4, 2, 5, 9]\n",
        "arr2 = [1, 4, 4, 2, 5, 9]\n",
        "\n",
        "result1 = has_duplicates(arr1)\n",
        "result2 = has_duplicates(arr2)\n",
        "\n",
        "print(result1)  # Output: True\n",
        "print(result2)  # Output: True\n"
      ],
      "metadata": {
        "id": "j-mssysLh0Z2",
        "colab": {
          "base_uri": "https://localhost:8080/"
        },
        "outputId": "3fd49bc4-74ec-4878-d200-6cf69a1fa478"
      },
      "execution_count": null,
      "outputs": [
        {
          "output_type": "stream",
          "name": "stdout",
          "text": [
            "True\n",
            "True\n"
          ]
        }
      ]
    },
    {
      "cell_type": "code",
      "source": [
        "def has_duplicates(arr):\n",
        "    return len(arr) != len(set(arr))\n",
        "\n",
        "# Example usage:\n",
        "arr1 = [1, 2, 4, 2, 5, 9]\n",
        "arr2 = [1, 4, 4, 2, 5, 9]\n",
        "\n",
        "result1 = has_duplicates(arr1)\n",
        "result2 = has_duplicates(arr2)\n",
        "\n",
        "print(result1)  # Output: True\n",
        "print(result2)  # Output: True\n"
      ],
      "metadata": {
        "colab": {
          "base_uri": "https://localhost:8080/"
        },
        "id": "bEbt8hxmneRT",
        "outputId": "ce76fdc9-670c-4ffc-863e-e21f626512bf"
      },
      "execution_count": null,
      "outputs": [
        {
          "output_type": "stream",
          "name": "stdout",
          "text": [
            "True\n",
            "True\n"
          ]
        }
      ]
    },
    {
      "cell_type": "code",
      "source": [
        "def prime_number(n):\n",
        "    for i in range(2, n):\n",
        "        if n % i == 0:\n",
        "            yield False\n",
        "            break\n",
        "    else:\n",
        "        yield True\n",
        "\n",
        "# Example usage:\n",
        "n = 13\n",
        "result = next(prime_number(n))\n",
        "print(result)\n"
      ],
      "metadata": {
        "id": "vfaVZanbn0Gk",
        "colab": {
          "base_uri": "https://localhost:8080/"
        },
        "outputId": "9066858e-e4b5-4ec0-b297-bdf6babd3fc7"
      },
      "execution_count": null,
      "outputs": [
        {
          "output_type": "stream",
          "name": "stdout",
          "text": [
            "True\n"
          ]
        }
      ]
    },
    {
      "cell_type": "code",
      "source": [
        "def generate_primes(limit):\n",
        "    for num in range(2, limit):\n",
        "        for i in range(2, int(num ** 0.5) + 1):\n",
        "            if num % i == 0:\n",
        "                break\n",
        "        else:\n",
        "            yield num\n",
        "\n",
        "primes_generator = generate_primes(1000)\n",
        "\n",
        "for _ in range(20):\n",
        "    prime_number = next(primes_generator)\n",
        "    print(prime_number)\n"
      ],
      "metadata": {
        "colab": {
          "base_uri": "https://localhost:8080/"
        },
        "id": "gpsm0n1YT5G8",
        "outputId": "c4566799-f168-4e1d-86be-b3e142476247"
      },
      "execution_count": null,
      "outputs": [
        {
          "output_type": "stream",
          "name": "stdout",
          "text": [
            "2\n",
            "3\n",
            "5\n",
            "7\n",
            "11\n",
            "13\n",
            "17\n",
            "19\n",
            "23\n",
            "29\n",
            "31\n",
            "37\n",
            "41\n",
            "43\n",
            "47\n",
            "53\n",
            "59\n",
            "61\n",
            "67\n",
            "71\n"
          ]
        }
      ]
    },
    {
      "cell_type": "code",
      "source": [
        "L = []\n",
        "\n",
        "for i in range(5):\n",
        "    names = str(input(\"Enter the string: \"))\n",
        "    L.append(names)\n",
        "\n",
        "print(L)"
      ],
      "metadata": {
        "id": "E9-jdLgOXOhJ"
      },
      "execution_count": null,
      "outputs": []
    },
    {
      "cell_type": "code",
      "source": [
        "def rotate_left(my_list, n):\n",
        "    if n < 0 or n >= len(my_list):\n",
        "        raise ValueError(\"Invalid number of rotations\")\n",
        "\n",
        "    rotated_list = my_list[-n:] + my_list[:-n]\n",
        "\n",
        "    return rotated_list\n",
        "\n",
        "my_list = [5, 6, 7, 8, 9]\n",
        "rotated_list = rotate_left(my_list, 2)\n",
        "print(rotated_list)\n"
      ],
      "metadata": {
        "id": "4nJcuMwT72F5",
        "colab": {
          "base_uri": "https://localhost:8080/"
        },
        "outputId": "5f21510b-c05a-449d-adcd-6df4901d9b17"
      },
      "execution_count": null,
      "outputs": [
        {
          "output_type": "stream",
          "name": "stdout",
          "text": [
            "[8, 9, 5, 6, 7]\n"
          ]
        }
      ]
    },
    {
      "cell_type": "code",
      "source": [
        "sentence = 'god is great'\n",
        "\n",
        "words = sentence.split()\n",
        "\n",
        "longest_word = max(words, key=len)\n",
        "\n",
        "print(f\"The longest word in the sentence is: {longest_word}\")\n"
      ],
      "metadata": {
        "colab": {
          "base_uri": "https://localhost:8080/"
        },
        "id": "1vLAnau8J7Qz",
        "outputId": "b21e7b7f-1bc1-40d1-f5e3-6fb8bb2bcc43"
      },
      "execution_count": null,
      "outputs": [
        {
          "output_type": "stream",
          "name": "stdout",
          "text": [
            "The longest word in the sentence is: great\n"
          ]
        }
      ]
    },
    {
      "cell_type": "code",
      "source": [
        "sentence = 'god is great'\n",
        "\n",
        "words = sentence.split()\n",
        "\n",
        "longest_word = max((word for word in words), key=len)\n",
        "\n",
        "print(f\"The longest word in the sentence is: {longest_word}\")\n"
      ],
      "metadata": {
        "colab": {
          "base_uri": "https://localhost:8080/"
        },
        "id": "S3hyCfbxXXsW",
        "outputId": "3048f8f6-2c33-4ad2-fa2a-695acd29a5fd"
      },
      "execution_count": null,
      "outputs": [
        {
          "output_type": "stream",
          "name": "stdout",
          "text": [
            "The longest word in the sentence is: great\n"
          ]
        }
      ]
    },
    {
      "cell_type": "code",
      "source": [
        "class SeatingCapacity(Car01):\n",
        "    def __init__(self, vehical, seating_capacity):\n",
        "        super().__init__(vehical)  # Call the __init__ of the base class (Car01)\n",
        "        self.seating_capacity = seating_capacity\n",
        "\n",
        "    def capacity_of_vehical(self):\n",
        "        return self.vehical, self.seating_capacity\n",
        "\n",
        "# Create an instance of SeatingCapacity\n",
        "passenger_5 = SeatingCapacity(vehical=\"tata\", seating_capacity=5)\n",
        "\n",
        "# Call the capacity_of_vehical method\n",
        "result = passenger_5.capacity_of_vehical()\n",
        "\n",
        "# Print the result\n",
        "print(result)\n"
      ],
      "metadata": {
        "colab": {
          "base_uri": "https://localhost:8080/",
          "height": 245
        },
        "id": "M5ctH7j1ZJTk",
        "outputId": "df749707-fffb-4a95-83f9-d36ec8b2d6f2"
      },
      "execution_count": null,
      "outputs": [
        {
          "output_type": "error",
          "ename": "NameError",
          "evalue": "ignored",
          "traceback": [
            "\u001b[0;31m---------------------------------------------------------------------------\u001b[0m",
            "\u001b[0;31mNameError\u001b[0m                                 Traceback (most recent call last)",
            "\u001b[0;32m<ipython-input-1-c5f882291afa>\u001b[0m in \u001b[0;36m<cell line: 1>\u001b[0;34m()\u001b[0m\n\u001b[0;32m----> 1\u001b[0;31m \u001b[0;32mclass\u001b[0m \u001b[0mSeatingCapacity\u001b[0m\u001b[0;34m(\u001b[0m\u001b[0mCar01\u001b[0m\u001b[0;34m)\u001b[0m\u001b[0;34m:\u001b[0m\u001b[0;34m\u001b[0m\u001b[0;34m\u001b[0m\u001b[0m\n\u001b[0m\u001b[1;32m      2\u001b[0m     \u001b[0;32mdef\u001b[0m \u001b[0m__init__\u001b[0m\u001b[0;34m(\u001b[0m\u001b[0mself\u001b[0m\u001b[0;34m,\u001b[0m \u001b[0mvehical\u001b[0m\u001b[0;34m,\u001b[0m \u001b[0mseating_capacity\u001b[0m\u001b[0;34m)\u001b[0m\u001b[0;34m:\u001b[0m\u001b[0;34m\u001b[0m\u001b[0;34m\u001b[0m\u001b[0m\n\u001b[1;32m      3\u001b[0m         \u001b[0msuper\u001b[0m\u001b[0;34m(\u001b[0m\u001b[0;34m)\u001b[0m\u001b[0;34m.\u001b[0m\u001b[0m__init__\u001b[0m\u001b[0;34m(\u001b[0m\u001b[0mvehical\u001b[0m\u001b[0;34m)\u001b[0m  \u001b[0;31m# Call the __init__ of the base class (Car01)\u001b[0m\u001b[0;34m\u001b[0m\u001b[0;34m\u001b[0m\u001b[0m\n\u001b[1;32m      4\u001b[0m         \u001b[0mself\u001b[0m\u001b[0;34m.\u001b[0m\u001b[0mseating_capacity\u001b[0m \u001b[0;34m=\u001b[0m \u001b[0mseating_capacity\u001b[0m\u001b[0;34m\u001b[0m\u001b[0;34m\u001b[0m\u001b[0m\n\u001b[1;32m      5\u001b[0m \u001b[0;34m\u001b[0m\u001b[0m\n",
            "\u001b[0;31mNameError\u001b[0m: name 'Car01' is not defined"
          ]
        }
      ]
    },
    {
      "cell_type": "code",
      "source": [
        "class SeatingCapacity(Car01):\n",
        "    def __init__(self, vehical, seating_capacity):\n",
        "        super().__init__(vehical)\n",
        "        self.seating_capacity = seating_capacity\n",
        "\n",
        "    def capacity_of_vehical(self):\n",
        "        return self.vehical, self.seating_capacity\n",
        "\n",
        "    def seating_capacity(self, capacity):\n",
        "        return f\"{self.vehical} has a seating capacity of {capacity}\"\n",
        "\n",
        "# Create an instance of SeatingCapacity\n",
        "passenger_5 = SeatingCapacity(vehical=\"tata\", seating_capacity=5)\n",
        "\n",
        "# Call the seating_capacity method\n",
        "result = passenger_5.seating_capacity(capacity=5)\n",
        "\n",
        "# Print the result\n",
        "print(result)\n"
      ],
      "metadata": {
        "colab": {
          "base_uri": "https://localhost:8080/",
          "height": 245
        },
        "id": "gvRVAy8ojXr3",
        "outputId": "45ab071f-9cf4-4088-d8d9-33f55b771d8f"
      },
      "execution_count": null,
      "outputs": [
        {
          "output_type": "error",
          "ename": "NameError",
          "evalue": "ignored",
          "traceback": [
            "\u001b[0;31m---------------------------------------------------------------------------\u001b[0m",
            "\u001b[0;31mNameError\u001b[0m                                 Traceback (most recent call last)",
            "\u001b[0;32m<ipython-input-2-6e6318fe42cd>\u001b[0m in \u001b[0;36m<cell line: 1>\u001b[0;34m()\u001b[0m\n\u001b[0;32m----> 1\u001b[0;31m \u001b[0;32mclass\u001b[0m \u001b[0mSeatingCapacity\u001b[0m\u001b[0;34m(\u001b[0m\u001b[0mCar01\u001b[0m\u001b[0;34m)\u001b[0m\u001b[0;34m:\u001b[0m\u001b[0;34m\u001b[0m\u001b[0;34m\u001b[0m\u001b[0m\n\u001b[0m\u001b[1;32m      2\u001b[0m     \u001b[0;32mdef\u001b[0m \u001b[0m__init__\u001b[0m\u001b[0;34m(\u001b[0m\u001b[0mself\u001b[0m\u001b[0;34m,\u001b[0m \u001b[0mvehical\u001b[0m\u001b[0;34m,\u001b[0m \u001b[0mseating_capacity\u001b[0m\u001b[0;34m)\u001b[0m\u001b[0;34m:\u001b[0m\u001b[0;34m\u001b[0m\u001b[0;34m\u001b[0m\u001b[0m\n\u001b[1;32m      3\u001b[0m         \u001b[0msuper\u001b[0m\u001b[0;34m(\u001b[0m\u001b[0;34m)\u001b[0m\u001b[0;34m.\u001b[0m\u001b[0m__init__\u001b[0m\u001b[0;34m(\u001b[0m\u001b[0mvehical\u001b[0m\u001b[0;34m)\u001b[0m\u001b[0;34m\u001b[0m\u001b[0;34m\u001b[0m\u001b[0m\n\u001b[1;32m      4\u001b[0m         \u001b[0mself\u001b[0m\u001b[0;34m.\u001b[0m\u001b[0mseating_capacity\u001b[0m \u001b[0;34m=\u001b[0m \u001b[0mseating_capacity\u001b[0m\u001b[0;34m\u001b[0m\u001b[0;34m\u001b[0m\u001b[0m\n\u001b[1;32m      5\u001b[0m \u001b[0;34m\u001b[0m\u001b[0m\n",
            "\u001b[0;31mNameError\u001b[0m: name 'Car01' is not defined"
          ]
        }
      ]
    },
    {
      "cell_type": "code",
      "source": [
        "class Vehicle:\n",
        "    def __init__(self, name_of_vehicle, max_speed, average_of_vehicle):\n",
        "        self.name_of_vehicle = name_of_vehicle\n",
        "        self.max_speed = max_speed\n",
        "        self.average_of_vehicle = average_of_vehicle\n",
        "\n",
        "    def display_info(self):\n",
        "        return f\"{self.name_of_vehicle} - Max Speed: {self.max_speed}, Average: {self.average_of_vehicle}\"\n",
        "\n",
        "class Car(Vehicle):\n",
        "    def seating_capacity(self, capacity):\n",
        "        return f\"{self.name_of_vehicle} has a seating capacity of {capacity}.\"\n",
        "\n",
        "# Example Usage:\n",
        "# Create an instance of the Car class\n",
        "car_instance = Car(name_of_vehicle=\"Car\", max_speed=200, average_of_vehicle=25)\n",
        "\n",
        "# Call the display_info method from the parent class\n",
        "print(car_instance.display_info())\n",
        "\n",
        "# Call the seating_capacity method from the child class\n",
        "print(car_instance.seating_capacity(capacity=5))\n"
      ],
      "metadata": {
        "colab": {
          "base_uri": "https://localhost:8080/"
        },
        "id": "m-26-mEEkLUP",
        "outputId": "dc37ce61-d80c-4db0-b26e-2246daaeffc3"
      },
      "execution_count": null,
      "outputs": [
        {
          "output_type": "stream",
          "name": "stdout",
          "text": [
            "Car - Max Speed: 200, Average: 25\n",
            "Car has a seating capacity of 5.\n"
          ]
        }
      ]
    },
    {
      "cell_type": "code",
      "source": [
        "def Rotedarr(arr, k):\n",
        "    k = k % len(arr)\n",
        "    for _ in range(k):\n",
        "        prev = arr[-1]\n",
        "        for j in range(len(arr)):\n",
        "            curr = arr[j]\n",
        "            arr[j] = prev\n",
        "            prev = curr\n",
        "\n",
        "# Example usage\n",
        "arr = [1, 2, 3, 4, 5]\n",
        "Rotedarr(arr, 3)\n",
        "print(arr)\n"
      ],
      "metadata": {
        "colab": {
          "base_uri": "https://localhost:8080/"
        },
        "id": "v2sDeSzcolOg",
        "outputId": "0d13d63b-609d-4a52-fcfd-58cbf10ad6b1"
      },
      "execution_count": null,
      "outputs": [
        {
          "output_type": "stream",
          "name": "stdout",
          "text": [
            "[3, 4, 5, 1, 2]\n"
          ]
        }
      ]
    },
    {
      "cell_type": "code",
      "source": [
        "def min_operations(word1, word2):\n",
        "    m, n = len(word1), len(word2)\n",
        "\n",
        "    dp = [[0] * (n + 1) for _ in range(m + 1)]\n",
        "\n",
        "    for i in range(m + 1):\n",
        "        dp[i][0] = i\n",
        "    for j in range(n + 1):\n",
        "        dp[0][j] = j\n",
        "\n",
        "    for i in range(1, m + 1):\n",
        "        for j in range(1, n + 1):\n",
        "            if word1[i - 1] == word2[j - 1]:\n",
        "                dp[i][j] = dp[i - 1][j - 1]\n",
        "            else:\n",
        "                dp[i][j] = 1 + min(dp[i - 1][j],\n",
        "                                  dp[i][j - 1],\n",
        "                                  dp[i - 1][j - 1])\n",
        "\n",
        "\n",
        "    return dp[m][n]\n",
        "\n",
        "\n",
        "word1 = \"horse\"\n",
        "word2 = \"ros\"\n",
        "result = min_operations(word1, word2)\n",
        "print(result)\n"
      ],
      "metadata": {
        "colab": {
          "base_uri": "https://localhost:8080/"
        },
        "id": "K7m9iLedbxAZ",
        "outputId": "7fcaa7ae-04ad-42c7-aa7f-b1d81641a7c6"
      },
      "execution_count": null,
      "outputs": [
        {
          "output_type": "stream",
          "name": "stdout",
          "text": [
            "3\n"
          ]
        }
      ]
    },
    {
      "cell_type": "code",
      "source": [
        "def min_operations(word1, word2):\n",
        "\n",
        "    memo = {}\n",
        "\n",
        "    def dp(i, j):\n",
        "        if (i, j) in memo:\n",
        "            return memo[(i, j)]\n",
        "\n",
        "        if i == 0:\n",
        "            return j\n",
        "        if j == 0:\n",
        "            return i\n",
        "\n",
        "        if word1[i - 1] == word2[j - 1]:\n",
        "            memo[(i, j)] = dp(i - 1, j - 1)\n",
        "        else:\n",
        "            memo[(i, j)] = 1 + min(dp(i - 1, j),\n",
        "                                   dp(i, j - 1),\n",
        "                                   dp(i - 1, j - 1))\n",
        "\n",
        "        return memo[(i, j)]\n",
        "\n",
        "    return dp(len(word1), len(word2))\n",
        "\n",
        "word1 = \"horse\"\n",
        "word2 = \"ros\"\n",
        "result = min_operations(word1, word2)\n",
        "print(result)\n"
      ],
      "metadata": {
        "colab": {
          "base_uri": "https://localhost:8080/"
        },
        "id": "F3oje1FTLC-k",
        "outputId": "c08420d4-15c9-4900-e615-5bcf3809a50c"
      },
      "execution_count": null,
      "outputs": [
        {
          "output_type": "stream",
          "name": "stdout",
          "text": [
            "3\n"
          ]
        }
      ]
    },
    {
      "cell_type": "code",
      "source": [],
      "metadata": {
        "id": "fpWdo0NjM7d2"
      },
      "execution_count": null,
      "outputs": []
    },
    {
      "cell_type": "code",
      "source": [
        "def bubble_optimized(arr):\n",
        "    for i in range(len(arr) - 1, 0, -1):\n",
        "        is_sorted = True\n",
        "        for j in range(i):\n",
        "            if arr[j] > arr[j + 1]:\n",
        "                arr[j], arr[j + 1] = arr[j + 1], arr[j]\n",
        "                is_sorted = False\n",
        "        if is_sorted:\n",
        "            break\n",
        "\n",
        "# Example usage:\n",
        "my_list = [64, 34, 25, 12, 22, 11, 90]\n",
        "print(\"Original List:\", my_list)\n",
        "\n",
        "bubble_optimized(my_list)\n",
        "\n",
        "print(\"Sorted List:\", my_list)\n"
      ],
      "metadata": {
        "id": "pf1nF4m5tIQ3",
        "outputId": "f7689692-263b-475f-fc6d-9c57db4d6e7b",
        "colab": {
          "base_uri": "https://localhost:8080/"
        }
      },
      "execution_count": null,
      "outputs": [
        {
          "output_type": "stream",
          "name": "stdout",
          "text": [
            "Original List: [64, 34, 25, 12, 22, 11, 90]\n",
            "Sorted List: [11, 12, 22, 25, 34, 64, 90]\n"
          ]
        }
      ]
    },
    {
      "cell_type": "code",
      "source": [
        "import numpy as np\n",
        "\n",
        "def perform_matrix_operations(matrix1, matrix2):\n",
        "    result_addition = np.add(matrix1, matrix2)\n",
        "    result_subtraction = np.subtract(matrix1, matrix2)\n",
        "    return result_addition, result_subtraction\n",
        "\n",
        "# Input matrix dimensions\n",
        "rows = int(input(\"Enter the number of rows: \"))\n",
        "columns = int(input(\"Enter the number of columns: \"))\n",
        "\n",
        "# Input first matrix\n",
        "print(\"\\nEnter details for the first matrix:\")\n",
        "matrix1 = np.array([list(map(float, input().split())) for _ in range(rows)])\n",
        "\n",
        "# Input second matrix\n",
        "print(\"\\nEnter details for the second matrix:\")\n",
        "matrix2 = np.array([list(map(float, input().split())) for _ in range(rows)])\n",
        "\n",
        "# Perform matrix addition and subtraction\n",
        "result_addition, result_subtraction = perform_matrix_operations(matrix1, matrix2)\n",
        "\n",
        "# Display results\n",
        "print(\"\\nMatrix Addition Result:\")\n",
        "print(result_addition)\n",
        "\n",
        "print(\"\\nMatrix Subtraction Result:\")\n",
        "print(result_subtraction)\n"
      ],
      "metadata": {
        "colab": {
          "base_uri": "https://localhost:8080/"
        },
        "id": "6nKOkDymxEB2",
        "outputId": "47264d28-024e-49bb-d1da-dca5342b7795"
      },
      "execution_count": null,
      "outputs": [
        {
          "output_type": "stream",
          "name": "stdout",
          "text": [
            "Enter the number of rows: 2\n",
            "Enter the number of columns: 2\n",
            "\n",
            "Enter details for the first matrix:\n",
            "1 2 \n",
            "5 6 \n",
            "\n",
            "Enter details for the second matrix:\n",
            "8 9\n",
            "7 5 \n",
            "\n",
            "Matrix Addition Result:\n",
            "[[ 9. 11.]\n",
            " [12. 11.]]\n",
            "\n",
            "Matrix Subtraction Result:\n",
            "[[-7. -7.]\n",
            " [-2.  1.]]\n"
          ]
        }
      ]
    },
    {
      "cell_type": "code",
      "source": [
        "import cmath  # Importing the complex math module\n",
        "\n",
        "def quadratic_roots(a, b, c):\n",
        "    # Calculate the discriminant\n",
        "    discriminant = cmath.sqrt(b**2 - 4*a*c)\n",
        "\n",
        "    # Calculate the two roots using the quadratic formula\n",
        "    root1 = (-b + discriminant) / (2*a)\n",
        "    root2 = (-b - discriminant) / (2*a)\n",
        "\n",
        "    return root1, root2\n",
        "\n",
        "# Input coefficients from the user\n",
        "a = float(input(\"Enter the coefficient 'a': \"))\n",
        "b = float(input(\"Enter the coefficient 'b': \"))\n",
        "c = float(input(\"Enter the coefficient 'c': \"))\n",
        "\n",
        "# Calculate and print the roots\n",
        "roots = quadratic_roots(a, b, c)\n",
        "print(\"Root 1:\", roots[0])\n",
        "print(\"Root 2:\", roots[1])\n"
      ],
      "metadata": {
        "id": "hqxzyhsDxphW",
        "colab": {
          "base_uri": "https://localhost:8080/"
        },
        "outputId": "ae7864ee-0b94-4bca-9c25-176c28297273"
      },
      "execution_count": null,
      "outputs": [
        {
          "output_type": "stream",
          "name": "stdout",
          "text": [
            "Enter the coefficient 'a': 4\n",
            "Enter the coefficient 'b': 6\n",
            "Enter the coefficient 'c': 2\n",
            "Root 1: (-0.5+0j)\n",
            "Root 2: (-1+0j)\n"
          ]
        }
      ]
    },
    {
      "cell_type": "code",
      "source": [],
      "metadata": {
        "id": "mCa1SpV87ZIQ"
      },
      "execution_count": null,
      "outputs": []
    }
  ]
}